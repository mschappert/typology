{
 "cells": [
  {
   "cell_type": "code",
   "execution_count": null,
   "id": "02e3ece4",
   "metadata": {
    "vscode": {
     "languageId": "plaintext"
    }
   },
   "outputs": [],
   "source": [
    "import numpy as np\n",
    "import rasterio"
   ]
  },
  {
   "cell_type": "code",
   "execution_count": null,
   "id": "4087be04",
   "metadata": {
    "vscode": {
     "languageId": "plaintext"
    }
   },
   "outputs": [],
   "source": [
    "def img_diff(image1, image2, output_dir):\n",
    "    \"\"\"\n",
    "    Subtract two TIFF rasters using rasterio, preserving geospatial metadata \n",
    "    and allowing negative values in the output.\n",
    "    \n",
    "    Parameters:\n",
    "    image1 (str): Path to the first TIFF. (earlier image eg. 1990)\n",
    "    image2 (str): Path to the second TIFF. (later image eg. 1995)\n",
    "    output_dir (str): Path where the result will be saved.\n",
    "    \"\"\"\n",
    "    # Open source rasters\n",
    "    with rasterio.open(image1) as src1:\n",
    "        img1 = src1.read().astype(np.float32)   # Read all bands\n",
    "        profile = src1.profile                   # Preserve metadata\n",
    "    \n",
    "    with rasterio.open(image2) as src2:\n",
    "        img2 = src2.read().astype(np.float32)\n",
    "    \n",
    "    # Subtract, preserving negative values\n",
    "    result = img2 - img1\n",
    "    \n",
    "    # Update profile to support signed data if necessary\n",
    "    # For example, switch to a signed 32-bit integer or float\n",
    "    profile.update(\n",
    "        dtype='float32',\n",
    "        nodata=None\n",
    "    )\n",
    "    \n",
    "    # Write result with original metadata (updated dtype)\n",
    "    with rasterio.open(output_path, 'w', **profile) as dst:\n",
    "        dst.write(result)"
   ]
  },
  {
   "cell_type": "code",
   "execution_count": null,
   "id": "5fe6964f",
   "metadata": {
    "vscode": {
     "languageId": "plaintext"
    }
   },
   "outputs": [],
   "source": [
    "if __name__ == \"__main__\":\n",
    "    img1 = \"path/to/image1.tif\"\n",
    "    img2 = \"path/to/image2.tif\"\n",
    "    out  = \"path/to/subtracted_with_negatives.tif\"\n",
    "    subtract_tiff_images_rasterio_preserve_negatives(img1, img2, out)\n",
    "    print(f\"Saved subtracted raster (with negatives) to {out}\")"
   ]
  }
 ],
 "metadata": {
  "language_info": {
   "name": "python"
  }
 },
 "nbformat": 4,
 "nbformat_minor": 5
}
